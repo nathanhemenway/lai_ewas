{
 "cells": [
  {
   "cell_type": "code",
   "execution_count": 12,
   "id": "503ce0ac",
   "metadata": {},
   "outputs": [
    {
     "name": "stdout",
     "output_type": "stream",
     "text": [
      "           0  1\n",
      "0  HGDP00001  2\n",
      "1  HGDP00003  2\n",
      "2  HGDP00005  2\n",
      "3  HGDP00007  2\n",
      "4  HGDP00009  2\n"
     ]
    },
    {
     "data": {
      "text/plain": [
       "0    Central and South Asia\n",
       "1    Central and South Asia\n",
       "2    Central and South Asia\n",
       "3    Central and South Asia\n",
       "4    Central and South Asia\n",
       "Name: 1, dtype: object"
      ]
     },
     "execution_count": 12,
     "metadata": {},
     "output_type": "execute_result"
    }
   ],
   "source": [
    "import pandas as pd\n",
    "\n",
    "dat = pd.read_csv('/home/nathanhe/rfmix2_files/share_to_nathan/reference/HGDP_938_SampleAncestry.txt', sep = '\\t', header=None)\n",
    "dat.head()\n",
    "print(dat.head())\n",
    "labels  = {1 : 'Sub-Saharan Africa', 2 : 'Central and South Asia', 3 : 'East Asia', \n",
    "          4 : 'Europe', 5 : 'Native America', 6 : 'Oceania', 7 : 'Middle East'}\n",
    "\n",
    "dat.replace(labels, inplace = True)\n",
    "dat.head()\n",
    "dat.iloc[:, 1].head()"
   ]
  },
  {
   "cell_type": "code",
   "execution_count": 14,
   "id": "2913ce7a",
   "metadata": {},
   "outputs": [
    {
     "data": {
      "text/plain": [
       "{'Central and South Asia': 200,\n",
       " 'Middle East': 160,\n",
       " 'East Asia': 229,\n",
       " 'Sub-Saharan Africa': 102,\n",
       " 'Native America': 63,\n",
       " 'Europe': 156,\n",
       " 'Oceania': 28}"
      ]
     },
     "execution_count": 14,
     "metadata": {},
     "output_type": "execute_result"
    }
   ],
   "source": [
    "my_list = dat.iloc[:, 1].tolist()\n",
    "{x: my_list.count(x) for x in set(my_list)}"
   ]
  },
  {
   "cell_type": "code",
   "execution_count": 24,
   "id": "9bb59fec",
   "metadata": {},
   "outputs": [],
   "source": [
    "s_asia = dat.loc[dat.iloc[:, 1] == 'Central and South Asia']\n",
    "oceania = dat.loc[dat.iloc[:, 1] == 'Oceania']\n",
    "\n",
    "dat1 = dat.drop(dat[dat.iloc[:, 1] == 'Central and South Asia'].index)\n",
    "dat1 = dat1.drop(dat1[dat1.iloc[:, 1] == 'Oceania'].index)\n",
    "my_list = dat1.iloc[:, 1].tolist()\n",
    "{x: my_list.count(x) for x in set(my_list)}\n",
    "\n",
    "dat1.to_csv(\"/home/nathanhe/rfmix2_files/share_to_nathan/reference/HGDP_938_SampleAncestry_no_Oceania_CSAsia.txt\", sep=\"\\t\", index=None, header=None)"
   ]
  },
  {
   "cell_type": "code",
   "execution_count": 33,
   "id": "8f808eef",
   "metadata": {},
   "outputs": [
    {
     "data": {
      "text/html": [
       "<div>\n",
       "<style scoped>\n",
       "    .dataframe tbody tr th:only-of-type {\n",
       "        vertical-align: middle;\n",
       "    }\n",
       "\n",
       "    .dataframe tbody tr th {\n",
       "        vertical-align: top;\n",
       "    }\n",
       "\n",
       "    .dataframe thead th {\n",
       "        text-align: right;\n",
       "    }\n",
       "</style>\n",
       "<table border=\"1\" class=\"dataframe\">\n",
       "  <thead>\n",
       "    <tr style=\"text-align: right;\">\n",
       "      <th></th>\n",
       "      <th>0</th>\n",
       "      <th>1</th>\n",
       "    </tr>\n",
       "  </thead>\n",
       "  <tbody>\n",
       "    <tr>\n",
       "      <th>190</th>\n",
       "      <td>HGDP00449</td>\n",
       "      <td>Sub-Saharan Africa</td>\n",
       "    </tr>\n",
       "    <tr>\n",
       "      <th>191</th>\n",
       "      <td>HGDP00450</td>\n",
       "      <td>Sub-Saharan Africa</td>\n",
       "    </tr>\n",
       "    <tr>\n",
       "      <th>192</th>\n",
       "      <td>HGDP01087</td>\n",
       "      <td>Sub-Saharan Africa</td>\n",
       "    </tr>\n",
       "    <tr>\n",
       "      <th>193</th>\n",
       "      <td>HGDP00454</td>\n",
       "      <td>Sub-Saharan Africa</td>\n",
       "    </tr>\n",
       "    <tr>\n",
       "      <th>194</th>\n",
       "      <td>HGDP00455</td>\n",
       "      <td>Sub-Saharan Africa</td>\n",
       "    </tr>\n",
       "  </tbody>\n",
       "</table>\n",
       "</div>"
      ],
      "text/plain": [
       "             0                   1\n",
       "190  HGDP00449  Sub-Saharan Africa\n",
       "191  HGDP00450  Sub-Saharan Africa\n",
       "192  HGDP01087  Sub-Saharan Africa\n",
       "193  HGDP00454  Sub-Saharan Africa\n",
       "194  HGDP00455  Sub-Saharan Africa"
      ]
     },
     "execution_count": 33,
     "metadata": {},
     "output_type": "execute_result"
    }
   ],
   "source": [
    "dat1.head()"
   ]
  },
  {
   "cell_type": "code",
   "execution_count": 32,
   "id": "4656c301",
   "metadata": {},
   "outputs": [
    {
     "name": "stdout",
     "output_type": "stream",
     "text": [
      "['HGDP00001', 'HGDP00003', 'HGDP00005', 'HGDP00007', 'HGDP00009', 'HGDP00011', 'HGDP00013', 'HGDP00015', 'HGDP00017', 'HGDP00019', 'HGDP00021', 'HGDP00023', 'HGDP00025', 'HGDP00027', 'HGDP00029', 'HGDP00031', 'HGDP00033', 'HGDP00035', 'HGDP00037', 'HGDP00039', 'HGDP00041', 'HGDP00043', 'HGDP00045', 'HGDP00047', 'HGDP00049', 'HGDP00052', 'HGDP00054', 'HGDP00056', 'HGDP00057', 'HGDP00058', 'HGDP00060', 'HGDP00062', 'HGDP00064', 'HGDP00066', 'HGDP00068', 'HGDP00070', 'HGDP00072', 'HGDP00074', 'HGDP00076', 'HGDP00078', 'HGDP00080', 'HGDP00082', 'HGDP00086', 'HGDP00088', 'HGDP00090', 'HGDP00092', 'HGDP00094', 'HGDP00096', 'HGDP00098', 'HGDP00099', 'HGDP00100', 'HGDP00102', 'HGDP00103', 'HGDP00104', 'HGDP00105', 'HGDP00106', 'HGDP00108', 'HGDP00109', 'HGDP00110', 'HGDP00112', 'HGDP00115', 'HGDP00116', 'HGDP00118', 'HGDP00119', 'HGDP00120', 'HGDP00121', 'HGDP00122', 'HGDP00124', 'HGDP00125', 'HGDP00127', 'HGDP00129', 'HGDP00130', 'HGDP00131', 'HGDP00133', 'HGDP00134', 'HGDP00135', 'HGDP00136', 'HGDP00137', 'HGDP00139', 'HGDP00140', 'HGDP00141', 'HGDP00143', 'HGDP00144', 'HGDP00145', 'HGDP00146', 'HGDP00148', 'HGDP00149', 'HGDP00150', 'HGDP00151', 'HGDP00153', 'HGDP00154', 'HGDP00155', 'HGDP00157', 'HGDP00158', 'HGDP00160', 'HGDP00161', 'HGDP00163', 'HGDP00165', 'HGDP00167', 'HGDP00169', 'HGDP00171', 'HGDP00173', 'HGDP00175', 'HGDP00177', 'HGDP00179', 'HGDP00181', 'HGDP00183', 'HGDP00185', 'HGDP00187', 'HGDP00189', 'HGDP00191', 'HGDP00192', 'HGDP00195', 'HGDP00197', 'HGDP00199', 'HGDP00201', 'HGDP00205', 'HGDP00206', 'HGDP00208', 'HGDP00210', 'HGDP00213', 'HGDP00214', 'HGDP00216', 'HGDP00218', 'HGDP00222', 'HGDP00224', 'HGDP00226', 'HGDP00228', 'HGDP00230', 'HGDP00232', 'HGDP00234', 'HGDP00237', 'HGDP00239', 'HGDP00241', 'HGDP00243', 'HGDP00244', 'HGDP00251', 'HGDP00254', 'HGDP00258', 'HGDP00259', 'HGDP00262', 'HGDP00264', 'HGDP00267', 'HGDP00274', 'HGDP00277', 'HGDP00279', 'HGDP00281', 'HGDP00285', 'HGDP00286', 'HGDP00288', 'HGDP00290', 'HGDP00298', 'HGDP00302', 'HGDP00304', 'HGDP00307', 'HGDP00309', 'HGDP00311', 'HGDP00313', 'HGDP00315', 'HGDP00319', 'HGDP00323', 'HGDP00326', 'HGDP00328', 'HGDP00330', 'HGDP00333', 'HGDP00336', 'HGDP00338', 'HGDP00341', 'HGDP00346', 'HGDP00351', 'HGDP00356', 'HGDP00359', 'HGDP00364', 'HGDP00371', 'HGDP00372', 'HGDP00376', 'HGDP00382', 'HGDP00388', 'HGDP00392', 'HGDP00397', 'HGDP00402', 'HGDP00407', 'HGDP00412', 'HGDP00417', 'HGDP00423', 'HGDP00428', 'HGDP00433', 'HGDP00438', 'HGDP00444', 'HGDP00445', 'HGDP01297', 'HGDP01298', 'HGDP01299', 'HGDP01300', 'HGDP01301', 'HGDP01302', 'HGDP01303', 'HGDP01304', 'HGDP01305', 'HGDP01306', 'HGDP00491', 'HGDP00540', 'HGDP00541', 'HGDP00542', 'HGDP00543', 'HGDP00544', 'HGDP00545', 'HGDP00546', 'HGDP00547', 'HGDP00548', 'HGDP00550', 'HGDP00551', 'HGDP00552', 'HGDP00553', 'HGDP00554', 'HGDP00555', 'HGDP00556', 'HGDP00655', 'HGDP00656', 'HGDP00979', 'HGDP00661', 'HGDP00662', 'HGDP00663', 'HGDP00664', 'HGDP00787', 'HGDP00788', 'HGDP01027', 'HGDP00549']\n"
     ]
    }
   ],
   "source": [
    "to_remove = pd.concat([s_asia, oceania])\n",
    "\n",
    "my_list = to_remove.iloc[:, 1].tolist()\n",
    "{x: my_list.count(x) for x in set(my_list)}\n",
    "\n",
    "ids_to_remove = to_remove.iloc[:, 0].tolist()\n",
    "print(ids_to_remove)\n",
    "    \n",
    "with open('/home/nathanhe/rfmix2_files/HGDP_removed_ids.txt', 'w') as f:\n",
    "    for line in ids_to_remove:\n",
    "        f.write(f\"{line}\\n\")"
   ]
  }
 ],
 "metadata": {
  "kernelspec": {
   "display_name": "Python 3 (ipykernel)",
   "language": "python",
   "name": "python3"
  },
  "language_info": {
   "codemirror_mode": {
    "name": "ipython",
    "version": 3
   },
   "file_extension": ".py",
   "mimetype": "text/x-python",
   "name": "python",
   "nbconvert_exporter": "python",
   "pygments_lexer": "ipython3",
   "version": "3.9.7"
  }
 },
 "nbformat": 4,
 "nbformat_minor": 5
}
